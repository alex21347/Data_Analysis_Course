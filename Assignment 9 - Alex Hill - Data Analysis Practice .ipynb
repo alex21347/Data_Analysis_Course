{
 "cells": [
  {
   "cell_type": "markdown",
   "metadata": {},
   "source": [
    "# Assn09: Final Project proposal"
   ]
  },
  {
   "cell_type": "markdown",
   "metadata": {},
   "source": [
    "### Name : Alexander Hill\n",
    "### Student number: 1090318866\n",
    "### Project theme: Dengue fever\n",
    "### Project purpose: Data mining the various features leading to outbreaks of Dengue Fever across multiple cities, and predicting future outbreaks.\n"
   ]
  },
  {
   "cell_type": "markdown",
   "metadata": {},
   "source": [
    "### Dataset source : https://www.drivendata.org/competitions/44/dengai-predicting-disease-spread/data/"
   ]
  }
 ],
 "metadata": {
  "kernelspec": {
   "display_name": "Python 3",
   "language": "python",
   "name": "python3"
  },
  "language_info": {
   "codemirror_mode": {
    "name": "ipython",
    "version": 3
   },
   "file_extension": ".py",
   "mimetype": "text/x-python",
   "name": "python",
   "nbconvert_exporter": "python",
   "pygments_lexer": "ipython3",
   "version": "3.7.3"
  }
 },
 "nbformat": 4,
 "nbformat_minor": 2
}
