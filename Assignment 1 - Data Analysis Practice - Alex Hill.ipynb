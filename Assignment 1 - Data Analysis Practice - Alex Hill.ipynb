{
 "cells": [
  {
   "cell_type": "markdown",
   "metadata": {},
   "source": [
    "testing out *italics*, __bold__, and ~~crossed out~~"
   ]
  },
  {
   "cell_type": "markdown",
   "metadata": {},
   "source": [
    "# biggest heading\n",
    "\n",
    "## big heading\n",
    "\n",
    "### medium\n",
    "\n",
    "#### small\n",
    "\n",
    "###### tiny"
   ]
  },
  {
   "cell_type": "markdown",
   "metadata": {},
   "source": [
    "____"
   ]
  },
  {
   "cell_type": "markdown",
   "metadata": {},
   "source": [
    "___"
   ]
  },
  {
   "cell_type": "markdown",
   "metadata": {},
   "source": [
    "___"
   ]
  },
  {
   "cell_type": "markdown",
   "metadata": {},
   "source": [
    "* Unordered list\n",
    "* Unordered list\n",
    "* Unordered list\n"
   ]
  },
  {
   "cell_type": "markdown",
   "metadata": {},
   "source": [
    "1. ordered list\n",
    "1. ordered list\n",
    "1. ordered list"
   ]
  },
  {
   "cell_type": "markdown",
   "metadata": {},
   "source": [
    "1st header | 2nd Header\n",
    "------------ | -------------\n",
    "cell 1 | cell 2\n",
    "first column | second column"
   ]
  },
  {
   "cell_type": "markdown",
   "metadata": {},
   "source": [
    "testing a link to [Anaconda](https://www.anaconda.com)"
   ]
  },
  {
   "cell_type": "markdown",
   "metadata": {},
   "source": [
    " ## <u>The Mandlebrot set </u>\n",
    "<img src=\"./pictures/mandlebrot.jpeg\" alt=\"drawing\" style=\"width:300px;\"/>"
   ]
  },
  {
   "cell_type": "markdown",
   "metadata": {},
   "source": [
    " [Bonus : link to (4) Lists](https://mail-attachment.googleusercontent.com/attachment/u/1/?ui=2&ik=67a8a66bc5&attid=0.1.5&permmsgid=msg-f:1646876411976824088&th=16dae15f04d93518&view=att&disp=inline&sadnir=1&saddbat=ANGjdJ8uY838t_eeBOWJduzdvriKE9iCcr9LVEmi00U4zKj0CVj_8o-GfJZOCfRZbyTEkXtJa-Q12qQlmksi0ik2QruvtoWUod5uYxQtHPb3y3pVQ3svLLrqz5Q5Wg4BanlRDCSfJepWfzX-uofS76k-r1RuAaT7KJ8EcJP5tnTtxNcWdXF-aqI_8e2z4HWX1gVoCp_ocimBWHR1GQjtImHWvYGrrCuMudvJBdlGofbJC-qnGb0INSjOR7SyxyPkRyiAcomEgiZLRuniYOlWHyAFUxl_u_i3apgkqGP6cgDAsN_gdWKmZPAyS-DP7D2hFvPDj_8UJiLvdgZBU1ccmpug1M9VKaVX3NZ0IauzxheE5z1MJ1B0DvNVqsqAFRqeZiG7B8JIirXtvdpmZeCNWBMP3PwOBisT4UgNq7b3kEZHN0QT_FlJGJN3RhqAtbMQylX0LzvlmFDbcZ3sE4z2rijK4NN6MdXc7y88OSfsK1v-cp63Wz44xFWJbfdtAxBPeUJOM_NUMWYLW5Lg1j9JQ3W8pd1rWklNEdYI-gVObHOohlcKyTnTjnfSAC3q6vLP8jrIKX5XpJHemT2IPuP19BIYH9vHnSeWd90E6nibQA4_gLkJDJX73OLqT0sVemCiazvjnmMqbvgLNuFygjhCzZnwSpcJaPgGqv5G_v6StdM3Tm5Dc1dsd1T6VWDbdQg#0.1.5_lists)"
   ]
  },
  {
   "cell_type": "markdown",
   "metadata": {},
   "source": []
  },
  {
   "cell_type": "markdown",
   "metadata": {},
   "source": []
  },
  {
   "cell_type": "markdown",
   "metadata": {},
   "source": []
  }
 ],
 "metadata": {
  "kernelspec": {
   "display_name": "Python 3",
   "language": "python",
   "name": "python3"
  },
  "language_info": {
   "codemirror_mode": {
    "name": "ipython",
    "version": 3
   },
   "file_extension": ".py",
   "mimetype": "text/x-python",
   "name": "python",
   "nbconvert_exporter": "python",
   "pygments_lexer": "ipython3",
   "version": "3.7.3"
  }
 },
 "nbformat": 4,
 "nbformat_minor": 2
}
